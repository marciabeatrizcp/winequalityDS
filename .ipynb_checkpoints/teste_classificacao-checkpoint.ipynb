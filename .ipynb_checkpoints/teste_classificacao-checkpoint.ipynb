{
 "cells": [
  {
   "cell_type": "code",
   "execution_count": null,
   "metadata": {},
   "outputs": [],
   "source": [
    "import numpy as np\n",
    "import pandas as pd\n",
    "import matplotlib.pyplot as plt\n",
    "import seaborn as sns\n",
    "\n",
    "\n",
    "#Defining the splits for categories. 1–4 will be poor quality, 5–6 will be average, 7–10 will be great\n",
    "bins = [1,4,6,10]\n",
    "#0 for low quality, 1 for average, 2 for great quality\n",
    "quality_labels=[0,1,2]\n",
    "data['quality_categorical'] = pd.cut(data['quality'], bins=bins, labels=quality_labels, include_lowest=True)\n",
    "#Displays the first 2 columns\n",
    "display(data.head(n=2))\n",
    "# Split the data into features and target label\n",
    "quality_raw = data['quality_categorical']\n",
    "features_raw = data.drop(['quality', 'quality_categorical'], axis = 1)"
   ]
  }
 ],
 "metadata": {
  "kernelspec": {
   "display_name": "Python 3",
   "language": "python",
   "name": "python3"
  },
  "language_info": {
   "codemirror_mode": {
    "name": "ipython",
    "version": 3
   },
   "file_extension": ".py",
   "mimetype": "text/x-python",
   "name": "python",
   "nbconvert_exporter": "python",
   "pygments_lexer": "ipython3",
   "version": "3.7.1"
  }
 },
 "nbformat": 4,
 "nbformat_minor": 2
}
